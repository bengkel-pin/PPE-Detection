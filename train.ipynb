{
 "cells": [
  {
   "cell_type": "code",
   "execution_count": null,
   "metadata": {
    "execution": {
     "iopub.execute_input": "2025-06-09T14:32:53.031051Z",
     "iopub.status.busy": "2025-06-09T14:32:53.030832Z",
     "iopub.status.idle": "2025-06-09T14:34:14.042444Z",
     "shell.execute_reply": "2025-06-09T14:34:14.041472Z",
     "shell.execute_reply.started": "2025-06-09T14:32:53.031030Z"
    },
    "trusted": true
   },
   "outputs": [],
   "source": [
    "!pip install ultralytics wandb roboflow -q"
   ]
  },
  {
   "cell_type": "code",
   "execution_count": null,
   "metadata": {},
   "outputs": [],
   "source": [
    "from kaggle_secrets import UserSecretsClient\n",
    "user_secrets = UserSecretsClient()"
   ]
  },
  {
   "cell_type": "code",
   "execution_count": null,
   "metadata": {
    "_cell_guid": "b1076dfc-b9ad-4769-8c92-a6c4dae69d19",
    "_uuid": "8f2839f25d086af736a60e9eeb907d3b93b6e0e5",
    "execution": {
     "iopub.execute_input": "2025-06-09T14:35:42.945638Z",
     "iopub.status.busy": "2025-06-09T14:35:42.945302Z",
     "iopub.status.idle": "2025-06-09T14:36:00.546084Z",
     "shell.execute_reply": "2025-06-09T14:36:00.545538Z",
     "shell.execute_reply.started": "2025-06-09T14:35:42.945606Z"
    },
    "trusted": true
   },
   "outputs": [],
   "source": [
    "from roboflow import Roboflow\n",
    "rf = Roboflow(api_key=user_secrets.get_secret(\"roboflow_api_key\"))\n",
    "project = rf.workspace(\"kelvin-snkig\").project(\"ppe-akpdb\")\n",
    "version = project.version(2)\n",
    "dataset = version.download(\"yolov11\")        "
   ]
  },
  {
   "cell_type": "code",
   "execution_count": null,
   "metadata": {
    "execution": {
     "iopub.execute_input": "2025-06-09T14:36:00.547647Z",
     "iopub.status.busy": "2025-06-09T14:36:00.547348Z",
     "iopub.status.idle": "2025-06-09T14:36:00.552510Z",
     "shell.execute_reply": "2025-06-09T14:36:00.551822Z",
     "shell.execute_reply.started": "2025-06-09T14:36:00.547628Z"
    },
    "trusted": true
   },
   "outputs": [],
   "source": [
    "from ultralytics import settings\n",
    "\n",
    "settings.update({\"wandb\": True})\n",
    "\n",
    "print(settings['wandb'])"
   ]
  },
  {
   "cell_type": "code",
   "execution_count": null,
   "metadata": {
    "execution": {
     "iopub.execute_input": "2025-06-09T14:36:00.553917Z",
     "iopub.status.busy": "2025-06-09T14:36:00.553322Z",
     "iopub.status.idle": "2025-06-09T14:36:09.030885Z",
     "shell.execute_reply": "2025-06-09T14:36:09.030321Z",
     "shell.execute_reply.started": "2025-06-09T14:36:00.553893Z"
    },
    "trusted": true
   },
   "outputs": [],
   "source": [
    "import wandb\n",
    "\n",
    "wandb.login(key=user_secrets.get_secret(\"wandb\"))"
   ]
  },
  {
   "cell_type": "code",
   "execution_count": null,
   "metadata": {
    "execution": {
     "iopub.execute_input": "2025-06-09T14:36:16.308072Z",
     "iopub.status.busy": "2025-06-09T14:36:16.307657Z"
    },
    "trusted": true
   },
   "outputs": [],
   "source": [
    "from ultralytics import YOLO\n",
    "\n",
    "# Catat konfigurasi train yang digunakan untuk di save ke dalam wandb\n",
    "config = {\n",
    "    \"data\": f\"{dataset.location}/data.yaml\",\n",
    "    \"pretrained_model\": \"yolo11x.pt\", # ganti model yang dilatih disini\n",
    "    \"imgsz\": 640,\n",
    "    \"batch_size\": 16,\n",
    "    \"optimizer\": \"SGD\",\n",
    "    \"epochs\": 50\n",
    "}\n",
    "\n",
    "\n",
    "wandb.init(\n",
    "    project=\"PPE Detection Model\",\n",
    "    config=config,\n",
    "    name=f'{config[\"pretrained_model\"]}-{config[\"epochs\"]}-{config[\"batch_size\"]}-{config[\"imgsz\"]}-{config[\"optimizer\"]}'\n",
    ")\n",
    "\n",
    "model = YOLO(config[\"pretrained_model\"])\n",
    "\n",
    "model.train(\n",
    "    data= config[\"data\"],\n",
    "    epochs= config[\"epochs\"],\n",
    "    batch= config[\"batch_size\"],        \n",
    "    imgsz= config[\"imgsz\"],                 \n",
    "    optimizer= config[\"optimizer\"],\n",
    "    device=[0, 1] # parameter ini diperlukan karena error out of memory yang disebabkan oleh batch size yang besar sehingga 1 gpu tak cukup untuk melatihnya\n",
    ")\n",
    "\n",
    "wandb.finish()"
   ]
  }
 ],
 "metadata": {
  "kaggle": {
   "accelerator": "nvidiaTeslaT4",
   "dataSources": [],
   "isGpuEnabled": true,
   "isInternetEnabled": true,
   "language": "python",
   "sourceType": "notebook"
  },
  "kernelspec": {
   "display_name": "Python 3",
   "language": "python",
   "name": "python3"
  },
  "language_info": {
   "codemirror_mode": {
    "name": "ipython",
    "version": 3
   },
   "file_extension": ".py",
   "mimetype": "text/x-python",
   "name": "python",
   "nbconvert_exporter": "python",
   "pygments_lexer": "ipython3",
   "version": "3.11.11"
  }
 },
 "nbformat": 4,
 "nbformat_minor": 4
}
